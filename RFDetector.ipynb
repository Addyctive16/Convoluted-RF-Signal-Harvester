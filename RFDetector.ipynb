{
 "cells": [
  {
   "cell_type": "markdown",
   "metadata": {},
   "source": [
    "INSTALLING DEPENDENCIES"
   ]
  },
  {
   "cell_type": "code",
   "execution_count": null,
   "metadata": {},
   "outputs": [],
   "source": [
    "pip install numpy\n",
    "pip install scipy\n",
    "pip install pyrtlsdr\n",
    "pip install tensorflow\n",
    "pip install scikit-learn\n",
    "pip install matplotlib.pyplot"
   ]
  },
  {
   "cell_type": "markdown",
   "metadata": {},
   "source": [
    "RADIO SIGNALS COLLECTION AND SAMPLING"
   ]
  },
  {
   "cell_type": "code",
   "execution_count": null,
   "metadata": {},
   "outputs": [],
   "source": [
    "from rtlsdr import RtlSdr\n",
    "\n",
    "# Initialize the RTL-SDR\n",
    "sdr = RtlSdr()\n",
    "\n",
    "# Configure the RTL-SDR\n",
    "sdr.sample_rate = 2.048e6  # 2.048 MHz\n",
    "sdr.center_freq = 2.4e9  # 2.4 GHz (Wi-Fi example frequency)\n",
    "sdr.gain = 'auto'\n",
    "\n",
    "# Capture samples\n",
    "samples = sdr.read_samples(256*1024)  # Capture 256k samples\n",
    "\n",
    "# Save samples to a file\n",
    "np.save('rf_samples.npy', samples)\n",
    "\n",
    "# Close the RTL-SDR\n",
    "sdr.close()"
   ]
  },
  {
   "cell_type": "markdown",
   "metadata": {},
   "source": [
    "SCALING WITH HYBRID(SAMPLES+SYNTHETIC)DATA TO CAPTURE NOISE"
   ]
  },
  {
   "cell_type": "code",
   "execution_count": null,
   "metadata": {},
   "outputs": [],
   "source": [
    "import numpy as np\n",
    "from scipy.fftpack import fft\n",
    "from sklearn.preprocessing import StandardScaler\n",
    "import matplotlib.pyplot as plt\n",
    "\n",
    "def generate_synthetic_rf_data(num_samples=1000, num_classes=10):\n",
    "    data = []\n",
    "    labels = []\n",
    "    for i in range(num_classes):\n",
    "        for _ in range(num_samples):\n",
    "            # Generate a synthetic signal with noise\n",
    "            signal = np.sin(2 * np.pi * np.random.rand() * np.arange(256)) + np.random.normal(0, 0.5, 256)\n",
    "            data.append(signal)\n",
    "            labels.append(i)\n",
    "    return np.array(data), np.array(labels)\n",
    "\n",
    "# Generate synthetic RF data\n",
    "X, y = generate_synthetic_rf_data()\n",
    "\n",
    "# Visualize a sample signal\n",
    "plt.plot(X[0])\n",
    "plt.title(f\"Class {y[0]} Signal\")\n",
    "plt.xlabel(\"Sample Index\")\n",
    "plt.ylabel(\"Amplitude\")\n",
    "plt.show()"
   ]
  },
  {
   "cell_type": "markdown",
   "metadata": {},
   "source": [
    "DATA PREPROCESSING USING FFT"
   ]
  },
  {
   "cell_type": "code",
   "execution_count": null,
   "metadata": {},
   "outputs": [],
   "source": [
    "def preprocess_rf_samples(data):\n",
    "    # Convert samples to the frequency domain using FFT\n",
    "    transformed_samples = np.abs(fft(data))\n",
    "\n",
    "    # Normalize the data\n",
    "    scaler = StandardScaler()\n",
    "    scaled_samples = scaler.fit_transform(transformed_samples.reshape(-1, 1))\n",
    "\n",
    "    return scaled_samples.reshape(data.shape)\n",
    "\n",
    "# Preprocess the synthetic RF data\n",
    "preprocessed_data = preprocess_rf_samples(X)"
   ]
  },
  {
   "cell_type": "markdown",
   "metadata": {},
   "source": [
    "CNN MODEL DEFINITION AND TRAINING TO DETECT RADIO FREQUENCY SIGNALS"
   ]
  },
  {
   "cell_type": "code",
   "execution_count": null,
   "metadata": {},
   "outputs": [],
   "source": [
    "import tensorflow as tf\n",
    "from tensorflow.keras.models import Sequential\n",
    "from tensorflow.keras.layers import Conv2D, MaxPooling2D, Flatten, Dense\n",
    "\n",
    "def build_cnn_model(input_shape):\n",
    "    model = Sequential()\n",
    "    model.add(Conv2D(32, (3, 3), activation='relu', input_shape=input_shape))\n",
    "    model.add(MaxPooling2D((2, 2)))\n",
    "    model.add(Conv2D(64, (3, 3), activation='relu'))\n",
    "    model.add(MaxPooling2D((2, 2)))\n",
    "    model.add(Flatten())\n",
    "    model.add(Dense(128, activation='relu'))\n",
    "    model.add(Dense(10, activation='softmax'))\n",
    "    return model\n",
    "\n",
    "input_shape = (256, 256, 1)\n",
    "X_train = preprocessed_data.reshape(-1, 256, 256, 1)\n",
    "y_train = y\n",
    "\n",
    "model = build_cnn_model(input_shape)\n",
    "model.compile(optimizer='adam', loss='sparse_categorical_crossentropy', metrics=['accuracy'])\n",
    "model.fit(X_train, y_train, epochs=10, batch_size=32)\n",
    "model.save(\"rf_signal_detector.h5\")\n"
   ]
  },
  {
   "cell_type": "markdown",
   "metadata": {},
   "source": [
    "MODEL LOADING AND FINAL PREDICTION"
   ]
  },
  {
   "cell_type": "code",
   "execution_count": null,
   "metadata": {},
   "outputs": [],
   "source": [
    "from tensorflow.keras.models import load_model\n",
    "\n",
    "model = load_model(\"rf_signal_detector.h5\")\n",
    "\n",
    "X_new, y_new = generate_synthetic_rf_data(num_samples=10)\n",
    "preprocessed_new_data = preprocess_rf_samples(X_new)\n",
    "\n",
    "predictions = model.predict(preprocessed_new_data.reshape(-1, 256, 256, 1))\n",
    "predicted_classes = np.argmax(predictions, axis=1)\n",
    "\n",
    "for i, pred_class in enumerate(predicted_classes):\n",
    "    print(f\"Sample {i}: True Class = {y_new[i]}, Predicted Class = {pred_class}\")"
   ]
  }
 ],
 "metadata": {
  "language_info": {
   "name": "python"
  }
 },
 "nbformat": 4,
 "nbformat_minor": 2
}
